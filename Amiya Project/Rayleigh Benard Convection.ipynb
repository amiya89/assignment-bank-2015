{
 "cells": [
  {
   "cell_type": "code",
   "execution_count": 69,
   "metadata": {
    "collapsed": false
   },
   "outputs": [],
   "source": [
    "import numpy as np\n",
    "import matplotlib.pyplot as plt\n",
    "%matplotlib inline\n",
    "from matplotlib import rcParams, cm\n",
    "rcParams['font.family'] = 'serif'\n",
    "rcParams['font.size'] = 16"
   ]
  },
  {
   "cell_type": "code",
   "execution_count": 70,
   "metadata": {
    "collapsed": false
   },
   "outputs": [
    {
     "name": "stdout",
     "output_type": "stream",
     "text": [
      "delT = 1.209287767702047e-07 Tl = 20.000000120928778\n",
      "1.0054144180571545e-06\n"
     ]
    }
   ],
   "source": [
    "H = 0.25\n",
    "L = 1\n",
    "\n",
    "alpha = 207*10**(-6) #Volume expansion coefficient of water @ 20 C\n",
    "k = 0.6     #Thermal conductivity of water @ 20 C\n",
    "\n",
    "#ReC = 1100.65 #Critical Rayleigh number for one free and one rigid boundary condition\n",
    "ReC = 1708     #Critical Rayleigh number for two rigid body boundary condition\n",
    "g = 9.81\n",
    "D = 0.143E-6  #Thermal diffusivity of water\n",
    "rho_i = 1000   #Density of water @ 20 C\n",
    "\n",
    "L = 10\n",
    "H = 1\n",
    "\n",
    "nxy = 101\n",
    "nt = 500\n",
    "\n",
    "dxy = L/(nxy-1)\n",
    "\n",
    "x = np.linspace(0,L,nxy)\n",
    "y = np.linspace(0,H,nxy)\n",
    "\n",
    "#Change to Kelivin?\n",
    "To = 20\n",
    "vo = 2.414*10**(-5) * 10**(247.8/(To + 273 - 140)) / rho_i  #initial kinematic viscosity of water\n",
    "delT = (ReC*vo*1.43*10**(-7))/(alpha*g*H**3)\n",
    "Ti = np.ones((nxy, nxy))*To\n",
    "Ti[-1,:] = To + 30\n",
    "\n",
    "rho = np.ones((nxy,nxy), dtype=float)*rho_i\n",
    "rho[0,:] = rho_i*(1-alpha*(Ti[0,:] - To))\n",
    "\n",
    "v = np.ones((nxy,nxy))*2.414*10**(-5) * 10**(247.8/(Ti + 273 - 140)) / rho  #kinematic viscosity of water\n",
    "\n",
    "pi = np.zeros((nxy,nxy), dtype=float)\n",
    "pi[:,:] = rho[:,:] * y[:] * g\n",
    "\n",
    "ui = np.zeros((nxy,nxy), dtype=float)\n",
    "\n",
    "print('delT =',delT, 'Tl =',20+delT)\n",
    "print(vo)\n",
    "#print('x =', x, 'y =', y)"
   ]
  },
  {
   "cell_type": "code",
   "execution_count": 71,
   "metadata": {
    "collapsed": false
   },
   "outputs": [
    {
     "name": "stdout",
     "output_type": "stream",
     "text": [
      "0.001\n"
     ]
    }
   ],
   "source": [
    "# stability\n",
    "sigma = 0.00005\n",
    "#dt = sigma*min(dxy,dxy)**2/D\n",
    "dt = 0.001\n",
    "\n",
    "print(dt)"
   ]
  },
  {
   "cell_type": "code",
   "execution_count": 72,
   "metadata": {
    "collapsed": false
   },
   "outputs": [
    {
     "name": "stdout",
     "output_type": "stream",
     "text": [
      "0.1\n"
     ]
    }
   ],
   "source": [
    "print(dxy)"
   ]
  },
  {
   "cell_type": "code",
   "execution_count": 73,
   "metadata": {
    "collapsed": false
   },
   "outputs": [],
   "source": [
    "def ftcs(T, To, u, p, rho, rho_i, alpha, v, k, g, y, delT, nt, dt, dxy):\n",
    "    \n",
    "    for n in range(nt):\n",
    "        \n",
    "        # Boundary conditions\n",
    "        u[-1,:] = 0 #Top Boundary\n",
    "        u[0,:] = 0   #Bottom Boundary\n",
    "        T[-1,:] = To + 30 #Bottom Boundary\n",
    "        T[0,:] = To   #top Boundary\n",
    "\n",
    "        un = u.copy()\n",
    "        Tn = T.copy()\n",
    "        pn = p.copy()\n",
    "        vn = v.copy()\n",
    "        T[1:-1,1:-1] = Tn[1:-1,1:-1] + dt*((un[1:-1,1:-1]/dxy)*(Tn[2:,1:-1]\\\n",
    "                    + Tn[1:-1,2:] - (2*Tn[1:-1,1:-1])) + \n",
    "                    (k/dxy**2)*(Tn[2:,1:-1] + Tn[:-2,1:-1] + Tn[1:-1,2:]\\\n",
    "                    + Tn[1:-1,:-2] - (4*Tn[1:-1,1:-1])))\n",
    "        \n",
    "        rho[1:-1,1:-1] = rho_i*(1- alpha*(T[1:-1,1:-1] - 20))\n",
    "        p[1:-1,1:-1] = rho[1:-1,1:-1]*y[1:-1] * g\n",
    "        \n",
    "        \n",
    "        u[1:-1,1:-1] = un[1:-1,1:-1] + dt*(-(1/rho_i)*(p[2:,1:-1] + p[1:-1,2:] - 2*p[1:-1,1:-1]) + (rho[1:-1,1:-1]*g/rho_i)\\\n",
    "                                           + (1/dxy)*(u[1:-1,1:-1]*0.5*(u[2:,1:-1] - u[:-2,1:-1] \\\n",
    "                                                                      + u[1:-1,2:] - u[1:-1,:-2]) \\\n",
    "                                           + (v[1:-1,1:-1]/dxy)*(u[2:,1:-1] + u[:-2,1:-1] + u[1:-1,2:] + u[1:-1,:-2] - 4*u[1:-1,1:-1])))\n",
    "\n",
    "                                           \n",
    "    return T"
   ]
  },
  {
   "cell_type": "code",
   "execution_count": 74,
   "metadata": {
    "collapsed": false
   },
   "outputs": [],
   "source": [
    "T = ftcs(Ti,To,ui,pi,rho,rho_i,alpha,v,k,g,y,delT,nt,dt,dxy)"
   ]
  },
  {
   "cell_type": "code",
   "execution_count": 75,
   "metadata": {
    "collapsed": false
   },
   "outputs": [
    {
     "data": {
      "image/png": "[encoded data removed]",
      "text/plain": [
       "<matplotlib.figure.Figure at 0x91af6be6d8>"
      ]
     },
     "metadata": {},
     "output_type": "display_data"
    }
   ],
   "source": [
    "plt.figure(figsize=(8,5))\n",
    "plt.contourf(x,y,T,20,cmap=cm.viridis)\n",
    "plt.xlabel('$x$')\n",
    "plt.ylabel('$y$')\n",
    "plt.colorbar();\n"
   ]
  },
  {
   "cell_type": "code",
   "execution_count": 76,
   "metadata": {
    "collapsed": false
   },
   "outputs": [
    {
     "name": "stdout",
     "output_type": "stream",
     "text": [
      "[[ 20.          20.          20.         ...,  20.          20.          20.        ]\n",
      " [ 20.          20.          20.         ...,  20.          20.          20.        ]\n",
      " [ 20.          20.          20.         ...,  20.          20.          20.        ]\n",
      " ..., \n",
      " [ 20.          34.04182049  41.00887689 ...,  34.97558313  28.83395561\n",
      "   20.        ]\n",
      " [ 20.          38.13235576  44.41729127 ...,  41.14160358  34.99409619\n",
      "   20.        ]\n",
      " [ 50.          50.          50.         ...,  50.          50.          50.        ]]\n"
     ]
    }
   ],
   "source": [
    "print(T)"
   ]
  },
  {
   "cell_type": "code",
   "execution_count": null,
   "metadata": {
    "collapsed": true
   },
   "outputs": [],
   "source": []
  }
 ],
 "metadata": {
  "kernelspec": {
   "display_name": "Python 3",
   "language": "python",
   "name": "python3"
  },
  "language_info": {
   "codemirror_mode": {
    "name": "ipython",
    "version": 3
   },
   "file_extension": ".py",
   "mimetype": "text/x-python",
   "name": "python",
   "nbconvert_exporter": "python",
   "pygments_lexer": "ipython3",
   "version": "3.5.1"
  }
 },
 "nbformat": 4,
 "nbformat_minor": 0
}
