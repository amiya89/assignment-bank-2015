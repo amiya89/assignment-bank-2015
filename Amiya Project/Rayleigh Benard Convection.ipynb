{
 "cells": [
  {
   "cell_type": "code",
   "execution_count": 3,
   "metadata": {
    "collapsed": false
   },
   "outputs": [],
   "source": [
    "import numpy as np\n",
    "import matplotlib.pyplot as plt\n",
    "%matplotlib inline\n",
    "from matplotlib import rcParams\n",
    "rcParams['font.family'] = 'serif'\n",
    "rcParams['font.size'] = 16"
   ]
  },
  {
   "cell_type": "code",
   "execution_count": 13,
   "metadata": {
    "collapsed": false
   },
   "outputs": [
    {
     "name": "stdout",
     "output_type": "stream",
     "text": [
      "18.6070972831627 38.6070972831627\n"
     ]
    }
   ],
   "source": [
    "H = 0.25\n",
    "L = 1\n",
    "\n",
    "alpha = 207 #Volume expansion coefficient of water @ 20 C\n",
    "k = 0.6     #Thermal conductivity of water @ 20 C\n",
    "v = 0.894   # viscosity of water     change to matrix\n",
    "\n",
    "ReC = 1100.65 #Critical Rayleigh number for one free and one rigid boundary condition\n",
    "g = 9.81\n",
    "D = 0.143E-6  #Thermal diffusivity of water\n",
    "rho_i = 1.105   #Density of water @ 20 C\n",
    "R = 287        #Cp - Cv for water change later\n",
    "\n",
    "delT = (ReC*v*k)/(alpha*g*H**3)\n",
    "nxy = 101\n",
    "nt = 500\n",
    "\n",
    "dxy = L/(nxy-1)\n",
    "\n",
    "#Change to Kelivin?\n",
    "To = 20\n",
    "Ti = np.ones((nxy, nxy))*To\n",
    "Ti[0,:] = 20 + delT\n",
    "\n",
    "rho = np.ones((nxy,nxy), dtype=float)*rho_i\n",
    "rho[0,:] = rho_i*(1-alpha*(Ti[0,:] - To))\n",
    "\n",
    "pi = np.zeros((nxy,nxy), dtype=float)\n",
    "pi[:,:] = Ti[:,:]*rho_i[0:,0:] * R\n",
    "\n",
    "ui = np.zeros((nxy,nxy), dtype=float)\n",
    "\n",
    "print(delT, 20+delT)"
   ]
  },
  {
   "cell_type": "code",
   "execution_count": 22,
   "metadata": {
    "collapsed": false
   },
   "outputs": [
    {
     "name": "stdout",
     "output_type": "stream",
     "text": [
      "0.03496503496503497\n"
     ]
    }
   ],
   "source": [
    "# stability\n",
    "sigma = 0.00005\n",
    "dt = sigma*min(dxy,dxy)**2/D\n",
    "\n",
    "print(dt)"
   ]
  },
  {
   "cell_type": "code",
   "execution_count": 23,
   "metadata": {
    "collapsed": false
   },
   "outputs": [
    {
     "name": "stdout",
     "output_type": "stream",
     "text": [
      "0.01\n"
     ]
    }
   ],
   "source": [
    "print(dxy)"
   ]
  },
  {
   "cell_type": "code",
   "execution_count": null,
   "metadata": {
    "collapsed": true
   },
   "outputs": [],
   "source": [
    "def ftcs(T, To, u, p, rho, rho_i, alpha, k, R, nt, dt, dxy):\n",
    "    \n",
    "    for n in range(nt):\n",
    "        un = u.copy()\n",
    "        Tn = T.copy()\n",
    "        Pn = p.copy\n",
    "        \n",
    "        T[1:-1,1:-1] = Tn[1:-1,1:-1] + dt*((un[1:-1,1:-1]/dxy)*(Tn[2:,1:-1]\\\n",
    "                    + Tn[1:-1,2:] - (2*Tn[1:-1,1:-1])) + \n",
    "                    (k/dxy**2)*(Tn[2:,1:-1] + Tn[:-2,1:-1] + Tn[1:-1,2:]\\\n",
    "                    + Tn[1:-1,:-2] - (4*Tn[1:-1,1:-1])))\n",
    "        \n",
    "        rho[1:-1,1:-1] = rho_i*(1- alpha*(T[1:-1,1:-1] - 20))\n",
    "        p[1:-1,1:-1] = rho[1:-1,1:-1]*T[1:-1,1:-1] * R\n",
    "        \n",
    "        \n",
    "        u[1:-1,1:-1] = un[1:-1,1:-1] + dt*((un[1:-1,1:-1]/dxy)*(un[2:,1:-1]\\\n",
    "                    + un[1:-1,2:] - (2*un[1:-1,1:-1])) + \n",
    "                    (u[1:-1,1:-1])*(un[2:,1:-1] + un[:-2,1:-1] + un[1:-1,2:]\\\n",
    "                    + un[1:-1,:-2] - (4*un[1:-1,1:-1])) - \\\n",
    "                    ((1/rho_i)*P[1:-1,1:-1]) + ((rho[1:-1,1:-1]/rho_i)*g))"
   ]
  }
 ],
 "metadata": {
  "kernelspec": {
   "display_name": "Python 3",
   "language": "python",
   "name": "python3"
  },
  "language_info": {
   "codemirror_mode": {
    "name": "ipython",
    "version": 3
   },
   "file_extension": ".py",
   "mimetype": "text/x-python",
   "name": "python",
   "nbconvert_exporter": "python",
   "pygments_lexer": "ipython3",
   "version": "3.5.1"
  }
 },
 "nbformat": 4,
 "nbformat_minor": 0
}
