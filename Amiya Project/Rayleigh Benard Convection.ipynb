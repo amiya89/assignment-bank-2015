{
 "cells": [
  {
   "cell_type": "code",
   "execution_count": 31,
   "metadata": {
    "collapsed": false
   },
   "outputs": [],
   "source": [
    "import numpy as np\n",
    "import matplotlib.pyplot as plt\n",
    "%matplotlib inline\n",
    "from matplotlib import rcParams, cm\n",
    "rcParams['font.family'] = 'serif'\n",
    "rcParams['font.size'] = 16"
   ]
  },
  {
   "cell_type": "code",
   "execution_count": 32,
   "metadata": {
    "collapsed": false
   },
   "outputs": [
    {
     "name": "stdout",
     "output_type": "stream",
     "text": [
      "delT = 0.0001209287767702047 Tl = 20.00012092877677\n",
      "1.0054144180571545e-06\n"
     ]
    }
   ],
   "source": [
    "H = 0.25\n",
    "L = 1\n",
    "\n",
    "alpha = 207 #Volume expansion coefficient of water @ 20 C\n",
    "k = 0.6     #Thermal conductivity of water @ 20 C\n",
    "\n",
    "#ReC = 1100.65 #Critical Rayleigh number for one free and one rigid boundary condition\n",
    "ReC = 1708     #Critical Rayleigh number for two rigid body boundary condition\n",
    "g = 9.81\n",
    "D = 0.143E-6  #Thermal diffusivity of water\n",
    "rho_i = 1000   #Density of water @ 20 C\n",
    "\n",
    "L = 1\n",
    "H = 0.001\n",
    "\n",
    "nxy = 101\n",
    "nt = 500\n",
    "\n",
    "dxy = L/(nxy-1)\n",
    "\n",
    "x = np.linspace(0,L,nxy)\n",
    "y = np.linspace(0,H,nxy)\n",
    "\n",
    "#Change to Kelivin?\n",
    "To = 20\n",
    "vo = 2.414*10**(-5) * 10**(247.8/(To + 273 - 140)) / rho_i  #initial kinematic viscosity of water\n",
    "delT = (ReC*vo*1.43*10**(-7))/(alpha*g*H**3)\n",
    "Ti = np.ones((nxy, nxy))*To\n",
    "Ti[0,:] = 20 + delT\n",
    "\n",
    "rho = np.ones((nxy,nxy), dtype=float)*rho_i\n",
    "rho[0,:] = rho_i*(1-alpha*(Ti[0,:] - To))\n",
    "\n",
    "v = np.ones((nxy,nxy))*2.414*10**(-5) * 10**(247.8/(Ti + 273 - 140)) / rho  #kinematic viscosity of water\n",
    "\n",
    "pi = np.zeros((nxy,nxy), dtype=float)\n",
    "pi[:,:] = Ti[:,:]*rho[0:,0:] * R\n",
    "\n",
    "ui = np.zeros((nxy,nxy), dtype=float)\n",
    "\n",
    "print('delT =',delT, 'Tl =',20+delT)\n",
    "print(vo)\n",
    "#print('x =', x, 'y =', y)"
   ]
  },
  {
   "cell_type": "code",
   "execution_count": 33,
   "metadata": {
    "collapsed": false
   },
   "outputs": [
    {
     "name": "stdout",
     "output_type": "stream",
     "text": [
      "0.03496503496503497\n"
     ]
    }
   ],
   "source": [
    "# stability\n",
    "sigma = 0.00005\n",
    "dt = sigma*min(dxy,dxy)**2/D\n",
    "\n",
    "print(dt)"
   ]
  },
  {
   "cell_type": "code",
   "execution_count": 34,
   "metadata": {
    "collapsed": false
   },
   "outputs": [
    {
     "name": "stdout",
     "output_type": "stream",
     "text": [
      "0.01\n"
     ]
    }
   ],
   "source": [
    "print(dxy)"
   ]
  },
  {
   "cell_type": "code",
   "execution_count": 35,
   "metadata": {
    "collapsed": false
   },
   "outputs": [],
   "source": [
    "def ftcs(T, To, u, p, rho, rho_i, alpha, v, k, g, y, delT, nt, dt, dxy):\n",
    "    \n",
    "    for n in range(nt):\n",
    "        \n",
    "        # Boundary conditions\n",
    "        u[-1,:] = 0 #Top Boundary\n",
    "        u[0,:] = 0   #Bottom Boundary\n",
    "        T[0,:] = To + delT #Top Boundary\n",
    "        T[-1,:] = To   #Bottom Boundary\n",
    "\n",
    "        un = u.copy()\n",
    "        Tn = T.copy()\n",
    "        pn = p.copy()\n",
    "        vn = v.copy()\n",
    "        T[1:-1,1:-1] = Tn[1:-1,1:-1] + dt*((un[1:-1,1:-1]/dxy)*(Tn[2:,1:-1]\\\n",
    "                    + Tn[1:-1,2:] - (2*Tn[1:-1,1:-1])) + \n",
    "                    (k/dxy**2)*(Tn[2:,1:-1] + Tn[:-2,1:-1] + Tn[1:-1,2:]\\\n",
    "                    + Tn[1:-1,:-2] - (4*Tn[1:-1,1:-1])))\n",
    "        \n",
    "        rho[1:-1,1:-1] = rho_i*(1- alpha*(T[1:-1,1:-1] - 20))\n",
    "        p[1:-1,1:-1] = rho[1:-1,1:-1]*y[1:-1] * g\n",
    "        \n",
    "        \n",
    "        u[1:-1,1:-1] = un[1:-1,1:-1] + dt*(-(1/rho_i)*(p[2:,1:-1] + p[1:-1,2:] - 2*p[1:-1,1:-1]) + (rho[1:-1,1:-1]*g/rho_i)\\\n",
    "                                           + (1/dxy)*(u[1:-1,1:-1]*0.5*(u[2:,1:-1] - u[:-2,1:-1] \\\n",
    "                                                                      + u[1:-1,2:] - u[1:-1,:-2]) \\\n",
    "                                           + (v[1:-1,1:-1]/dxy)*(u[2:,1:-1] + u[:-2,1:-1] + u[1:-1,2:] + u[1:-1,:-2] - 4*u[1:-1,1:-1])))\n",
    "\n",
    "                                           \n",
    "    return T"
   ]
  },
  {
   "cell_type": "code",
   "execution_count": 36,
   "metadata": {
    "collapsed": false
   },
   "outputs": [
    {
     "name": "stderr",
     "output_type": "stream",
     "text": [
      "C:\\Users\\amiya\\Anaconda3\\lib\\site-packages\\ipykernel\\__main__.py:23: RuntimeWarning: overflow encountered in multiply\n",
      "C:\\Users\\amiya\\Anaconda3\\lib\\site-packages\\ipykernel\\__main__.py:15: RuntimeWarning: overflow encountered in multiply\n",
      "C:\\Users\\amiya\\Anaconda3\\lib\\site-packages\\ipykernel\\__main__.py:15: RuntimeWarning: invalid value encountered in multiply\n",
      "C:\\Users\\amiya\\Anaconda3\\lib\\site-packages\\ipykernel\\__main__.py:23: RuntimeWarning: invalid value encountered in add\n",
      "C:\\Users\\amiya\\Anaconda3\\lib\\site-packages\\ipykernel\\__main__.py:23: RuntimeWarning: invalid value encountered in subtract\n",
      "C:\\Users\\amiya\\Anaconda3\\lib\\site-packages\\ipykernel\\__main__.py:15: RuntimeWarning: invalid value encountered in add\n",
      "C:\\Users\\amiya\\Anaconda3\\lib\\site-packages\\ipykernel\\__main__.py:15: RuntimeWarning: invalid value encountered in subtract\n",
      "C:\\Users\\amiya\\Anaconda3\\lib\\site-packages\\ipykernel\\__main__.py:17: RuntimeWarning: invalid value encountered in add\n",
      "C:\\Users\\amiya\\Anaconda3\\lib\\site-packages\\ipykernel\\__main__.py:17: RuntimeWarning: invalid value encountered in subtract\n"
     ]
    }
   ],
   "source": [
    "T = ftcs(Ti,To,ui,pi,rho,rho_i,alpha,v,k,g,y,delT,nt,dt,dxy)"
   ]
  },
  {
   "cell_type": "code",
   "execution_count": 37,
   "metadata": {
    "collapsed": false
   },
   "outputs": [
    {
     "data": {
      "image/png": "[encoded data removed]",
      "text/plain": [
       "<matplotlib.figure.Figure at 0x5001542b0>"
      ]
     },
     "metadata": {},
     "output_type": "display_data"
    }
   ],
   "source": [
    "plt.figure(figsize=(8,5))\n",
    "plt.contourf(x,y,T,20,cmap=cm.viridis)\n",
    "plt.xlabel('$x$')\n",
    "plt.ylabel('$y$')\n",
    "plt.colorbar();\n"
   ]
  },
  {
   "cell_type": "code",
   "execution_count": 38,
   "metadata": {
    "collapsed": false
   },
   "outputs": [
    {
     "name": "stdout",
     "output_type": "stream",
     "text": [
      "[[ 20.00012093  20.00012093  20.00012093 ...,  20.00012093  20.00012093\n",
      "   20.00012093]\n",
      " [ 20.                  nan          nan ...,          nan          nan\n",
      "   20.        ]\n",
      " [ 20.                  nan          nan ...,          nan          nan\n",
      "   20.        ]\n",
      " ..., \n",
      " [ 20.                  nan          nan ...,          nan          nan\n",
      "   20.        ]\n",
      " [ 20.                  nan          nan ...,          nan          nan\n",
      "   20.        ]\n",
      " [ 20.          20.          20.         ...,  20.          20.          20.        ]]\n"
     ]
    }
   ],
   "source": [
    "print(T)"
   ]
  },
  {
   "cell_type": "code",
   "execution_count": null,
   "metadata": {
    "collapsed": true
   },
   "outputs": [],
   "source": []
  }
 ],
 "metadata": {
  "kernelspec": {
   "display_name": "Python 3",
   "language": "python",
   "name": "python3"
  },
  "language_info": {
   "codemirror_mode": {
    "name": "ipython",
    "version": 3
   },
   "file_extension": ".py",
   "mimetype": "text/x-python",
   "name": "python",
   "nbconvert_exporter": "python",
   "pygments_lexer": "ipython3",
   "version": "3.5.1"
  }
 },
 "nbformat": 4,
 "nbformat_minor": 0
}
